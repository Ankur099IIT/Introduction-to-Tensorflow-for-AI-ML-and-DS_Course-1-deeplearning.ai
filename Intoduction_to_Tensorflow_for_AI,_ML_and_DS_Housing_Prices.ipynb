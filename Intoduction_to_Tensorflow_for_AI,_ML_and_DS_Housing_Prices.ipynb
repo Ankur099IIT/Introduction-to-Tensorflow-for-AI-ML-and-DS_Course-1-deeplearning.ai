{
  "nbformat": 4,
  "nbformat_minor": 0,
  "metadata": {
    "colab": {
      "name": "Intoduction to Tensorflow for AI, ML and DS- Housing-Prices.ipynb",
      "provenance": []
    },
    "kernelspec": {
      "name": "python3",
      "display_name": "Python 3"
    },
    "language_info": {
      "name": "python"
    }
  },
  "cells": [
    {
      "cell_type": "code",
      "execution_count": 1,
      "metadata": {
        "id": "BupY0mnIaedI"
      },
      "outputs": [],
      "source": [
        "import tensorflow as tf\n",
        "import numpy as np"
      ]
    },
    {
      "cell_type": "code",
      "source": [
        "def house_model():\n",
        "  xs = tf.constant([1.0, 2.0, 3.0, 4.0, 5.0, 6.0])\n",
        "  ys = tf.constant([1.0, 1.5, 2.0, 2.5, 3.0, 3.5])\n",
        "  model = tf.keras.Sequential([\n",
        "          tf.keras.layers.Dense(units = 1, input_shape = [1])                   \n",
        "    ])\n",
        "\n",
        "  model.compile(loss = tf.keras.losses.MeanSquaredError(),\n",
        "                optimizer = tf.keras.optimizers.SGD()\n",
        "                )\n",
        "  model.fit(xs, ys, epochs = 1000) \n",
        "\n",
        "  return model"
      ],
      "metadata": {
        "id": "8wxanEShak0x"
      },
      "execution_count": 25,
      "outputs": []
    },
    {
      "cell_type": "code",
      "source": [
        "model = house_model()"
      ],
      "metadata": {
        "id": "f8zgY9nFh_gW"
      },
      "execution_count": null,
      "outputs": []
    },
    {
      "cell_type": "code",
      "source": [
        "\n",
        "\n",
        "new_y = [7.0]\n",
        "prediction  = model.predict(new_y)\n",
        "print(f'The price of house with 7 bedroom is ${prediction*100}k' )"
      ],
      "metadata": {
        "colab": {
          "base_uri": "https://localhost:8080/"
        },
        "id": "LgNgZBxbbaYY",
        "outputId": "53f75a3d-772b-478d-aa70-bc737d548070"
      },
      "execution_count": 36,
      "outputs": [
        {
          "output_type": "stream",
          "name": "stdout",
          "text": [
            "The price of house with 7 bedroom is $[[400.6825]]k\n"
          ]
        }
      ]
    },
    {
      "cell_type": "code",
      "source": [
        ""
      ],
      "metadata": {
        "id": "gJK-N_66dEQr"
      },
      "execution_count": null,
      "outputs": []
    }
  ]
}